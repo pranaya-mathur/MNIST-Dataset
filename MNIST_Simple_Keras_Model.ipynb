{
  "nbformat": 4,
  "nbformat_minor": 0,
  "metadata": {
    "colab": {
      "name": "MNIST Simple Keras Model.ipynb",
      "version": "0.3.2",
      "provenance": []
    },
    "kernelspec": {
      "name": "python3",
      "display_name": "Python 3"
    },
    "accelerator": "GPU"
  },
  "cells": [
    {
      "metadata": {
        "id": "vwqM1hStb19h",
        "colab_type": "code",
        "colab": {}
      },
      "cell_type": "code",
      "source": [
        "import numpy as np\n",
        "import matplotlib.pyplot as plt\n",
        "import keras\n",
        "from keras.datasets import mnist\n",
        "from keras.layers import Conv2D, Flatten, MaxPooling2D, Dense, Dropout\n",
        "from keras.optimizers import Adadelta, SGD, Adam, RMSprop\n",
        "from keras.models import Sequential"
      ],
      "execution_count": 0,
      "outputs": []
    },
    {
      "metadata": {
        "id": "FSUarZYAd_sX",
        "colab_type": "code",
        "colab": {
          "base_uri": "https://localhost:8080/",
          "height": 51
        },
        "outputId": "cd4a23d4-8e96-4836-ca56-4b204ca0afba"
      },
      "cell_type": "code",
      "source": [
        "(x_train, y_train), (x_test, y_test)  = mnist.load_data()"
      ],
      "execution_count": 2,
      "outputs": [
        {
          "output_type": "stream",
          "text": [
            "Downloading data from https://s3.amazonaws.com/img-datasets/mnist.npz\n",
            "11493376/11490434 [==============================] - 0s 0us/step\n"
          ],
          "name": "stdout"
        }
      ]
    },
    {
      "metadata": {
        "id": "SN0VVn5ke3DT",
        "colab_type": "text"
      },
      "cell_type": "markdown",
      "source": [
        "**PLOT RANDOMLY SELECTED TRAIN IMAGES**"
      ]
    },
    {
      "metadata": {
        "id": "0vVMgWTgfBiM",
        "colab_type": "code",
        "colab": {
          "base_uri": "https://localhost:8080/",
          "height": 244
        },
        "outputId": "4c5b8877-dec2-4596-ab6c-4ba47af189ce"
      },
      "cell_type": "code",
      "source": [
        "for i in range(1,7):\n",
        "  plt.subplot(3,3,i)\n",
        "  random_num = np.random.randint(0,len(x_train))\n",
        "  plt.imshow(x_train[random_num], cmap=plt.get_cmap('gray'))"
      ],
      "execution_count": 24,
      "outputs": [
        {
          "output_type": "display_data",
          "data": {
            "image/png": "[encoded data removed]",
            "text/plain": [
              "<matplotlib.figure.Figure at 0x7f5486397668>"
            ]
          },
          "metadata": {
            "tags": []
          }
        }
      ]
    },
    {
      "metadata": {
        "id": "BfuZa7rRpXRi",
        "colab_type": "text"
      },
      "cell_type": "markdown",
      "source": [
        "**PROCESS DATASET**"
      ]
    },
    {
      "metadata": {
        "id": "Cuz1mj0kpbKB",
        "colab_type": "code",
        "colab": {}
      },
      "cell_type": "code",
      "source": [
        "# Normalize the Training Dataset and Reshape\n",
        "x_train = x_train.reshape(x_train.shape[0],28,28,1) / 255.0\n",
        "x_test = x_test.reshape(x_test.shape[0],28,28,1) / 255.0\n",
        "\n",
        "# One Hot Encoding for The Labels\n",
        "\n",
        "from keras.utils import to_categorical\n",
        "\n",
        "y_train = to_categorical(y_train,10)\n",
        "y_test = to_categorical(y_test,10)\n"
      ],
      "execution_count": 0,
      "outputs": []
    },
    {
      "metadata": {
        "id": "NE8oh1sksFmJ",
        "colab_type": "text"
      },
      "cell_type": "markdown",
      "source": [
        "**Building Model**"
      ]
    },
    {
      "metadata": {
        "id": "DCWt9FvvsIJD",
        "colab_type": "code",
        "colab": {}
      },
      "cell_type": "code",
      "source": [
        "model = Sequential()\n",
        "\n",
        "model.add(Conv2D(32, kernel_size=(3, 3),\n",
        "                 activation='relu',\n",
        "                 input_shape=(28,28,1)))\n",
        "model.add(Conv2D(64, (3, 3), activation='relu'))\n",
        "model.add(MaxPooling2D(pool_size=(2, 2)))\n",
        "model.add(Dropout(0.25))\n",
        "model.add(Flatten())\n",
        "model.add(Dense(128, activation='relu'))\n",
        "model.add(Dropout(0.5))\n",
        "model.add(Dense(10, activation='softmax'))\n",
        "\n",
        "model.compile(loss = 'categorical_crossentropy',\n",
        "              optimizer = Adam(lr=0.001, beta_1=0.9, beta_2=0.999, epsilon=None, decay=0.0, amsgrad=False),\n",
        "              metrics = ['accuracy'])\n"
      ],
      "execution_count": 0,
      "outputs": []
    },
    {
      "metadata": {
        "id": "28PEnKXJuBKn",
        "colab_type": "code",
        "colab": {
          "base_uri": "https://localhost:8080/",
          "height": 394
        },
        "outputId": "9b790975-5089-4e34-c8ae-333aab1838c7"
      },
      "cell_type": "code",
      "source": [
        "my_model = model.fit(x_train,y_train,batch_size = 32,epochs=10,verbose=1,validation_data = (x_test,y_test))"
      ],
      "execution_count": 31,
      "outputs": [
        {
          "output_type": "stream",
          "text": [
            "Train on 60000 samples, validate on 10000 samples\n",
            "Epoch 1/10\n",
            "60000/60000 [==============================] - 28s 468us/step - loss: 0.1954 - acc: 0.9412 - val_loss: 0.0452 - val_acc: 0.9857\n",
            "Epoch 2/10\n",
            "60000/60000 [==============================] - 24s 399us/step - loss: 0.0813 - acc: 0.9754 - val_loss: 0.0355 - val_acc: 0.9881\n",
            "Epoch 3/10\n",
            "60000/60000 [==============================] - 24s 395us/step - loss: 0.0611 - acc: 0.9815 - val_loss: 0.0328 - val_acc: 0.9895\n",
            "Epoch 4/10\n",
            "60000/60000 [==============================] - 24s 395us/step - loss: 0.0521 - acc: 0.9840 - val_loss: 0.0314 - val_acc: 0.9898\n",
            "Epoch 5/10\n",
            "60000/60000 [==============================] - 24s 397us/step - loss: 0.0431 - acc: 0.9871 - val_loss: 0.0284 - val_acc: 0.9913\n",
            "Epoch 6/10\n",
            "60000/60000 [==============================] - 24s 396us/step - loss: 0.0370 - acc: 0.9884 - val_loss: 0.0290 - val_acc: 0.9916\n",
            "Epoch 7/10\n",
            "60000/60000 [==============================] - 24s 397us/step - loss: 0.0334 - acc: 0.9893 - val_loss: 0.0323 - val_acc: 0.9917\n",
            "Epoch 8/10\n",
            "60000/60000 [==============================] - 24s 394us/step - loss: 0.0279 - acc: 0.9908 - val_loss: 0.0331 - val_acc: 0.9922\n",
            "Epoch 9/10\n",
            "60000/60000 [==============================] - 24s 397us/step - loss: 0.0272 - acc: 0.9909 - val_loss: 0.0270 - val_acc: 0.9923\n",
            "Epoch 10/10\n",
            "60000/60000 [==============================] - 24s 394us/step - loss: 0.0236 - acc: 0.9925 - val_loss: 0.0274 - val_acc: 0.9934\n"
          ],
          "name": "stdout"
        }
      ]
    },
    {
      "metadata": {
        "id": "CTyE8ZLuvEvj",
        "colab_type": "code",
        "colab": {
          "base_uri": "https://localhost:8080/",
          "height": 34
        },
        "outputId": "d1f27a9b-5969-457d-852a-40770fae85a4"
      },
      "cell_type": "code",
      "source": [
        "score = model.evaluate(x_test,y_test,verbose=0)\n",
        "print(score)"
      ],
      "execution_count": 33,
      "outputs": [
        {
          "output_type": "stream",
          "text": [
            "[0.02739092648668634, 0.9934]\n"
          ],
          "name": "stdout"
        }
      ]
    },
    {
      "metadata": {
        "id": "M7wbsdoiwUVz",
        "colab_type": "code",
        "colab": {
          "base_uri": "https://localhost:8080/",
          "height": 51
        },
        "outputId": "0e49b0bd-f887-47fb-9eb7-d6b2b3a1716a"
      },
      "cell_type": "code",
      "source": [
        "print(\"Test Loss\",score[0])\n",
        "print(\"Test Accuracy\",score[1])"
      ],
      "execution_count": 34,
      "outputs": [
        {
          "output_type": "stream",
          "text": [
            "Test Loss 0.02739092648668634\n",
            "Test Accuracy 0.9934\n"
          ],
          "name": "stdout"
        }
      ]
    },
    {
      "metadata": {
        "id": "BLl87DBowi6A",
        "colab_type": "text"
      },
      "cell_type": "markdown",
      "source": [
        "**Plotting our Loss and accuracy charts**"
      ]
    },
    {
      "metadata": {
        "id": "D90RpimGwnBM",
        "colab_type": "code",
        "colab": {
          "base_uri": "https://localhost:8080/",
          "height": 697
        },
        "outputId": "d445b0c2-b45d-48a3-816b-e7d94c7460f6"
      },
      "cell_type": "code",
      "source": [
        "model_history = my_model.history\n",
        "model_history"
      ],
      "execution_count": 37,
      "outputs": [
        {
          "output_type": "execute_result",
          "data": {
            "text/plain": [
              "{'acc': [0.9412333333333334,\n",
              "  0.97545,\n",
              "  0.9815166666666667,\n",
              "  0.9840166666666667,\n",
              "  0.9871333333333333,\n",
              "  0.9883666666666666,\n",
              "  0.9893166666666666,\n",
              "  0.9907833333333333,\n",
              "  0.9909,\n",
              "  0.9925333333333334],\n",
              " 'loss': [0.19541264781256518,\n",
              "  0.0813143524867172,\n",
              "  0.06112218288522369,\n",
              "  0.05206799882890967,\n",
              "  0.04314253465082341,\n",
              "  0.036957035217500135,\n",
              "  0.03342030988188538,\n",
              "  0.027949981708643948,\n",
              "  0.02715194125238098,\n",
              "  0.02360546763667929],\n",
              " 'val_acc': [0.9857,\n",
              "  0.9881,\n",
              "  0.9895,\n",
              "  0.9898,\n",
              "  0.9913,\n",
              "  0.9916,\n",
              "  0.9917,\n",
              "  0.9922,\n",
              "  0.9923,\n",
              "  0.9934],\n",
              " 'val_loss': [0.04520040966900997,\n",
              "  0.03548232075780834,\n",
              "  0.03276524749070304,\n",
              "  0.03142919294945677,\n",
              "  0.028439978971519668,\n",
              "  0.028967871970987834,\n",
              "  0.03225003747526525,\n",
              "  0.033052480693270624,\n",
              "  0.02704312038539474,\n",
              "  0.02739092648668634]}"
            ]
          },
          "metadata": {
            "tags": []
          },
          "execution_count": 37
        }
      ]
    },
    {
      "metadata": {
        "id": "MzWEcEWtwt4t",
        "colab_type": "code",
        "colab": {
          "base_uri": "https://localhost:8080/",
          "height": 361
        },
        "outputId": "29d6bd31-fb87-4db2-f9a4-8f10743b3f74"
      },
      "cell_type": "code",
      "source": [
        "val_loss_values = model_history[\"val_loss\"]\n",
        "loss_values = model_history[\"loss\"]\n",
        "epochs = range(1,len(loss_values)+1)\n",
        "line1 = plt.plot(epochs, val_loss_values, label='Validation/Test Loss')\n",
        "line2 = plt.plot(epochs, loss_values, label='Training Loss')\n",
        "plt.setp(line1, linewidth=2.0, marker = '+', markersize=10.0)\n",
        "plt.setp(line2, linewidth=2.0, marker = '4', markersize=10.0)\n",
        "plt.xlabel('Epochs') \n",
        "plt.ylabel('Loss')\n",
        "plt.grid(True)\n",
        "plt.legend()\n",
        "plt.show()\n"
      ],
      "execution_count": 38,
      "outputs": [
        {
          "output_type": "display_data",
          "data": {
            "image/png": "[encoded data removed]",
            "text/plain": [
              "<matplotlib.figure.Figure at 0x7f548553b4a8>"
            ]
          },
          "metadata": {
            "tags": []
          }
        }
      ]
    },
    {
      "metadata": {
        "id": "iMd2K-SMxh4o",
        "colab_type": "code",
        "colab": {
          "base_uri": "https://localhost:8080/",
          "height": 361
        },
        "outputId": "b9d97990-9bf4-4f05-dd28-ba9ec9b2c886"
      },
      "cell_type": "code",
      "source": [
        "acc_values = model_history['acc']\n",
        "val_acc_values = model_history['val_acc']\n",
        "\n",
        "line1 = plt.plot(epochs, val_acc_values, label='Validation/Test Accuracy')\n",
        "line2 = plt.plot(epochs, acc_values, label='Training Accuracy')\n",
        "plt.setp(line1, linewidth=2.0, marker = '+', markersize=10.0)\n",
        "plt.setp(line2, linewidth=2.0, marker = '4', markersize=10.0)\n",
        "plt.xlabel('Epochs') \n",
        "plt.ylabel('Accuracy')\n",
        "plt.grid(True)\n",
        "plt.legend()\n",
        "plt.show()"
      ],
      "execution_count": 40,
      "outputs": [
        {
          "output_type": "display_data",
          "data": {
            "image/png": "[encoded data removed]",
            "text/plain": [
              "<matplotlib.figure.Figure at 0x7f5485542ef0>"
            ]
          },
          "metadata": {
            "tags": []
          }
        }
      ]
    },
    {
      "metadata": {
        "id": "UHhd-5kIxpP2",
        "colab_type": "code",
        "colab": {
          "base_uri": "https://localhost:8080/",
          "height": 34
        },
        "outputId": "418983f4-40aa-4fc5-d1cf-3b5cff3b2bf6"
      },
      "cell_type": "code",
      "source": [
        "model.save(\"mnist_simple_cnn_10_Epochs.h5\")\n",
        "print(\"Model Saved\")"
      ],
      "execution_count": 42,
      "outputs": [
        {
          "output_type": "stream",
          "text": [
            "Model Saved\n"
          ],
          "name": "stdout"
        }
      ]
    },
    {
      "metadata": {
        "id": "CBY-GwA4xzp3",
        "colab_type": "code",
        "colab": {}
      },
      "cell_type": "code",
      "source": [
        ""
      ],
      "execution_count": 0,
      "outputs": []
    }
  ]
}